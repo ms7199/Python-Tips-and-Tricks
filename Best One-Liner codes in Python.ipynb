{
 "cells": [
  {
   "cell_type": "markdown",
   "metadata": {},
   "source": [
    "# Best One-Liner codes in Python  #"
   ]
  },
  {
   "cell_type": "markdown",
   "metadata": {},
   "source": [
    "## By Mayank Gupta \n",
    "[LinkedIn Profile](https://www.linkedin.com/in/guptamayank7199/)"
   ]
  },
  {
   "cell_type": "markdown",
   "metadata": {},
   "source": [
    "----"
   ]
  },
  {
   "cell_type": "markdown",
   "metadata": {},
   "source": [
    "## 1- Swapping of two numbers ##"
   ]
  },
  {
   "cell_type": "markdown",
   "metadata": {},
   "source": [
    "> We know this fact, but sometimes we tend to ignore it while translating from other languages. It is **swapping of two numbers.** "
   ]
  },
  {
   "cell_type": "code",
   "execution_count": 6,
   "metadata": {},
   "outputs": [
    {
     "name": "stdout",
     "output_type": "stream",
     "text": [
      "a=5 b=4\n"
     ]
    }
   ],
   "source": [
    "# without one liner\n",
    "a, b = 4,5 \n",
    "temp = a\n",
    "a = b\n",
    "b = temp\n",
    "print(f\"a={a} b={b}\")"
   ]
  },
  {
   "cell_type": "code",
   "execution_count": 5,
   "metadata": {},
   "outputs": [
    {
     "name": "stdout",
     "output_type": "stream",
     "text": [
      "a=5 b=4\n"
     ]
    }
   ],
   "source": [
    "# with one liner\n",
    "a, b = 4,5\n",
    "a, b = b,a # swaping of a and b\n",
    "print(f\"a={a} b={b}\")"
   ]
  },
  {
   "cell_type": "markdown",
   "metadata": {},
   "source": [
    "---"
   ]
  },
  {
   "cell_type": "markdown",
   "metadata": {},
   "source": [
    "## 2- Lambda function ##"
   ]
  },
  {
   "cell_type": "markdown",
   "metadata": {},
   "source": [
    "> **Lambda functions** are python one liner functions and are often used when an expression is to be evaluated."
   ]
  },
  {
   "cell_type": "markdown",
   "metadata": {},
   "source": [
    "* For example, let’s suppose we want to create a function that returns the square root of the number passed as argument. The normal way of doing this is:"
   ]
  },
  {
   "cell_type": "code",
   "execution_count": 9,
   "metadata": {},
   "outputs": [
    {
     "name": "stdout",
     "output_type": "stream",
     "text": [
      "5.0\n"
     ]
    }
   ],
   "source": [
    "# without lambda function\n",
    "def sqr_root(x):\n",
    "    return x ** 0.5\n",
    "  \n",
    "print(sqr_root(25))"
   ]
  },
  {
   "cell_type": "code",
   "execution_count": 11,
   "metadata": {},
   "outputs": [
    {
     "name": "stdout",
     "output_type": "stream",
     "text": [
      "5.0\n"
     ]
    }
   ],
   "source": [
    "# with lambda function\n",
    "sqr_root = lambda x: x ** 0.5 #one liner\n",
    "print(sqr_root(25))"
   ]
  },
  {
   "cell_type": "markdown",
   "metadata": {},
   "source": [
    "---"
   ]
  },
  {
   "cell_type": "markdown",
   "metadata": {},
   "source": [
    "## 3- List comprehensions ##"
   ]
  },
  {
   "cell_type": "markdown",
   "metadata": {},
   "source": [
    ">  This is a concise way to create lists. Instead of doing it the usual way, we can make use of **list comprehensions**."
   ]
  },
  {
   "cell_type": "markdown",
   "metadata": {},
   "source": [
    "* For example, we want to create a list of even numbers till 50. The normal way of doing this is:"
   ]
  },
  {
   "cell_type": "code",
   "execution_count": 15,
   "metadata": {},
   "outputs": [
    {
     "name": "stdout",
     "output_type": "stream",
     "text": [
      "[0, 2, 4, 6, 8, 10, 12, 14, 16, 18, 20, 22, 24, 26, 28, 30, 32, 34, 36, 38, 40, 42, 44, 46, 48]\n"
     ]
    }
   ],
   "source": [
    "evenNumbers =[]\n",
    "for x in range(50):\n",
    "    if x % 2 == 0:\n",
    "        evenNumbers.append(x)\n",
    "print(evenNumbers)"
   ]
  },
  {
   "cell_type": "code",
   "execution_count": 16,
   "metadata": {},
   "outputs": [
    {
     "name": "stdout",
     "output_type": "stream",
     "text": [
      "[0, 2, 4, 6, 8, 10, 12, 14, 16, 18, 20, 22, 24, 26, 28, 30, 32, 34, 36, 38, 40, 42, 44, 46, 48]\n"
     ]
    }
   ],
   "source": [
    "# The one liner way:\n",
    "evenNumbers =[x for x in range(50) if x % 2 == 0] #one liner\n",
    "print(evenNumbers)\n"
   ]
  },
  {
   "cell_type": "markdown",
   "metadata": {},
   "source": [
    "---"
   ]
  },
  {
   "cell_type": "markdown",
   "metadata": {},
   "source": [
    "## 4 - Reverse the string "
   ]
  },
  {
   "cell_type": "markdown",
   "metadata": {},
   "source": [
    "> There are **various ways to reverse the string** in python."
   ]
  },
  {
   "cell_type": "code",
   "execution_count": 17,
   "metadata": {},
   "outputs": [
    {
     "name": "stdout",
     "output_type": "stream",
     "text": [
      "[9, 8, 7, 6, 5, 4, 3, 2, 1, 0]\n"
     ]
    }
   ],
   "source": [
    "# simple method to reverse the list\n",
    "digits = [0, 1, 2, 3, 4, 5, 6, 7, 8, 9]\n",
    "\n",
    "def reversed_list(a_list):\n",
    "    result = []\n",
    "    for item in a_list:\n",
    "        result = [item] + result\n",
    "    return result\n",
    "print(reversed_list(digits)) "
   ]
  },
  {
   "cell_type": "code",
   "execution_count": 18,
   "metadata": {},
   "outputs": [
    {
     "name": "stdout",
     "output_type": "stream",
     "text": [
      "[9, 8, 7, 6, 5, 4, 3, 2, 1, 0]\n"
     ]
    }
   ],
   "source": [
    "# using one liner way of python\n",
    "# method 1\n",
    "digits = [0, 1, 2, 3, 4, 5, 6, 7, 8, 9]\n",
    "digits = digits[::-1] # using list slicing ,one liner \n",
    "print(digits)"
   ]
  },
  {
   "cell_type": "code",
   "execution_count": 22,
   "metadata": {},
   "outputs": [
    {
     "name": "stdout",
     "output_type": "stream",
     "text": [
      "[9, 8, 7, 6, 5, 4, 3, 2, 1, 0]\n"
     ]
    }
   ],
   "source": [
    "# method 2\n",
    "digits = [0, 1, 2, 3, 4, 5, 6, 7, 8, 9]\n",
    "digits.reverse() # using built-in reverse() function, #one liner\n",
    "print(digits)"
   ]
  },
  {
   "cell_type": "markdown",
   "metadata": {},
   "source": [
    "---"
   ]
  },
  {
   "cell_type": "markdown",
   "metadata": {},
   "source": [
    "## 5- patterns"
   ]
  },
  {
   "cell_type": "raw",
   "metadata": {},
   "source": [
    "half pyramid pattern: \n",
    "* \n",
    "* * \n",
    "* * * \n",
    "* * * * \n",
    "* * * * * "
   ]
  },
  {
   "cell_type": "code",
   "execution_count": 26,
   "metadata": {},
   "outputs": [
    {
     "name": "stdout",
     "output_type": "stream",
     "text": [
      "* \r\n",
      "* * \r\n",
      "* * * \r\n",
      "* * * * \r\n",
      "* * * * * \r\n",
      "* * * * * * \r\n",
      "* * * * * * * \r\n",
      "* * * * * * * * \r\n",
      "* * * * * * * * * \r\n",
      "* * * * * * * * * * \r\n"
     ]
    }
   ],
   "source": [
    "# using simple approach\n",
    "n=10\n",
    "for i in range(0, n):\n",
    "    for j in range(0, i + 1):\n",
    "        print(\"* \", end =\"\")\n",
    "    print(\"\\r\")\n"
   ]
  },
  {
   "cell_type": "code",
   "execution_count": 28,
   "metadata": {},
   "outputs": [
    {
     "name": "stdout",
     "output_type": "stream",
     "text": [
      "* \n",
      "* * \n",
      "* * * \n",
      "* * * * \n",
      "* * * * * \n",
      "* * * * * * \n",
      "* * * * * * * \n",
      "* * * * * * * * \n",
      "* * * * * * * * * \n",
      "* * * * * * * * * * \n"
     ]
    }
   ],
   "source": [
    "# pythonic way\n",
    "n = 10\n",
    "print('\\n'.join('* ' * i for i in range(1, n + 1))) #one liner\n"
   ]
  },
  {
   "cell_type": "markdown",
   "metadata": {},
   "source": [
    "---"
   ]
  },
  {
   "cell_type": "markdown",
   "metadata": {},
   "source": [
    "## 6- Find factorial of the given number"
   ]
  },
  {
   "cell_type": "markdown",
   "metadata": {},
   "source": [
    "> we can find the **factorial** of given number in one line with the help of **lambda function.**"
   ]
  },
  {
   "cell_type": "code",
   "execution_count": 33,
   "metadata": {},
   "outputs": [
    {
     "name": "stdout",
     "output_type": "stream",
     "text": [
      "120\n"
     ]
    }
   ],
   "source": [
    "# simple approach\n",
    "def fact(n):\n",
    "    fact = 1\n",
    "    for i in range(1, n + 1):\n",
    "        fact = fact * i\n",
    "    return fact\n",
    "print (fact(5))"
   ]
  },
  {
   "cell_type": "code",
   "execution_count": 34,
   "metadata": {},
   "outputs": [
    {
     "name": "stdout",
     "output_type": "stream",
     "text": [
      "120\n"
     ]
    }
   ],
   "source": [
    "# using lambda function\n",
    "x = lambda n : 1 if n <= 1 else n*x(n-1) #one liner\n",
    "print(x(5))"
   ]
  },
  {
   "cell_type": "markdown",
   "metadata": {},
   "source": [
    "---"
   ]
  },
  {
   "cell_type": "markdown",
   "metadata": {},
   "source": [
    "## 7 - Palindrome string:"
   ]
  },
  {
   "cell_type": "markdown",
   "metadata": {},
   "source": [
    "> we can find if string is **palindrome** or not with **string slicing.**"
   ]
  },
  {
   "cell_type": "code",
   "execution_count": 45,
   "metadata": {},
   "outputs": [
    {
     "name": "stdout",
     "output_type": "stream",
     "text": [
      "maam is a palindrome string\n"
     ]
    }
   ],
   "source": [
    "# simple iterative approach\n",
    "def isPalindrome(str):\n",
    "    for i in range(0, int(len(str)/2)):\n",
    "        if str[i] != str[len(str)-i-1]:\n",
    "            return False\n",
    "    return True \n",
    "\n",
    "s = \"maam\"\n",
    "ans = isPalindrome(s)\n",
    "\n",
    "if (ans):\n",
    "    print(f\"{s} is a palindrome string\")\n",
    "else:\n",
    "    print(f\"{s} is not a palindrome string\")"
   ]
  },
  {
   "cell_type": "code",
   "execution_count": 47,
   "metadata": {},
   "outputs": [
    {
     "name": "stdout",
     "output_type": "stream",
     "text": [
      "maam is a palindrome string\n"
     ]
    }
   ],
   "source": [
    "s = \"maam\"\n",
    "ans = f\"{s} is a palindrome string\" if s == s[::-1] else f\"{s} is not a palindrome string\" #one liner\n",
    "print(ans)"
   ]
  },
  {
   "cell_type": "markdown",
   "metadata": {},
   "source": [
    "---"
   ]
  },
  {
   "cell_type": "markdown",
   "metadata": {},
   "source": [
    "## 8- Fibonacci series "
   ]
  },
  {
   "cell_type": "markdown",
   "metadata": {},
   "source": [
    "> we can find the fibonacci series with one line statemint with the help of **reduce function**."
   ]
  },
  {
   "cell_type": "code",
   "execution_count": 65,
   "metadata": {},
   "outputs": [
    {
     "name": "stdout",
     "output_type": "stream",
     "text": [
      "Fibonacci sequence: 0 1 1 2 3 5 8 13 21 34 "
     ]
    }
   ],
   "source": [
    "nterms = 10\n",
    "n1, n2 = 0, 1\n",
    "count = 0\n",
    "\n",
    "\n",
    "if nterms == 1:\n",
    "   print(\"Fibonacci sequence upto\",nterms,\":\")\n",
    "   print(n1)\n",
    "else:\n",
    "   print(\"Fibonacci sequence:\", end=\" \")\n",
    "   while count < nterms:\n",
    "       print(n1,end=\" \")\n",
    "       nth = n1 + n2\n",
    "       # update values\n",
    "       n1 = n2\n",
    "       n2 = nth\n",
    "       count += 1"
   ]
  },
  {
   "cell_type": "code",
   "execution_count": 71,
   "metadata": {},
   "outputs": [
    {
     "name": "stdout",
     "output_type": "stream",
     "text": [
      "fibonacci sequence: 0 1 1 2 3 5 8 13 21 34\n"
     ]
    }
   ],
   "source": [
    "from functools import reduce\n",
    "n = 10\n",
    "fibs = \"fibonacci sequence: \"+\" \".join(map(str,reduce(lambda x, _: x + [x[-2] + x[-1]], [0] * (n-2), [0, 1]))) #one liner\n",
    "print(fibs)"
   ]
  }
 ],
 "metadata": {
  "kernelspec": {
   "display_name": "Python 3",
   "language": "python",
   "name": "python3"
  },
  "language_info": {
   "codemirror_mode": {
    "name": "ipython",
    "version": 3
   },
   "file_extension": ".py",
   "mimetype": "text/x-python",
   "name": "python",
   "nbconvert_exporter": "python",
   "pygments_lexer": "ipython3",
   "version": "3.6.5"
  }
 },
 "nbformat": 4,
 "nbformat_minor": 2
}
